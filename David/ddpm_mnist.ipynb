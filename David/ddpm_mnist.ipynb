{
 "cells": [
  {
   "cell_type": "code",
   "execution_count": 542,
   "metadata": {},
   "outputs": [],
   "source": [
    "# fix annoying bug\n",
    "import os\n",
    "os.environ[\"KMP_DUPLICATE_LIB_OK\"]=\"TRUE\""
   ]
  },
  {
   "cell_type": "code",
   "execution_count": 543,
   "metadata": {},
   "outputs": [
    {
     "name": "stdout",
     "output_type": "stream",
     "text": [
      "Using device: cuda\n"
     ]
    }
   ],
   "source": [
    "import torch\n",
    "import torchvision\n",
    "from torchvision import datasets\n",
    "from torchvision.transforms import ToTensor, Lambda\n",
    "import numpy as np\n",
    "import matplotlib.pyplot as plt\n",
    "from torch.utils.data import DataLoader\n",
    "\n",
    "# device = (\n",
    "#     \"cuda\"\n",
    "#     if torch.cuda.is_available()\n",
    "#     else \"mps\"\n",
    "#     if torch.backends.mps.is_available()\n",
    "#     else \"cpu\"\n",
    "# )\n",
    "# print(f\"Using {device} device\")\n",
    "device = torch.device(\"cuda\" if torch.cuda.is_available() else \"cpu\")\n",
    "print(f\"Using device: {device}\")"
   ]
  },
  {
   "cell_type": "code",
   "execution_count": 544,
   "metadata": {},
   "outputs": [
    {
     "data": {
      "text/plain": [
       "'NVIDIA GeForce GTX 1070 Ti'"
      ]
     },
     "execution_count": 544,
     "metadata": {},
     "output_type": "execute_result"
    }
   ],
   "source": [
    "cuda_id = torch.cuda.current_device()\n",
    "torch.cuda.get_device_name(cuda_id)"
   ]
  },
  {
   "cell_type": "code",
   "execution_count": 545,
   "metadata": {},
   "outputs": [],
   "source": [
    "data_transform = transform=torchvision.transforms.Compose([\n",
    "        ToTensor(),\n",
    "        # Lambda(lambda x: x.squeeze())  # Squeezes the 1D channel dimension - the score network has this dimension included hence commented\n",
    "    ])\n",
    "training_data = datasets.MNIST(\n",
    "    root=\"data\",\n",
    "    train=True,\n",
    "    download=True,\n",
    "    transform=data_transform\n",
    ")\n",
    "test_data = datasets.MNIST(\n",
    "    root=\"data\",\n",
    "    train=False,\n",
    "    download=True,\n",
    "    transform=data_transform\n",
    ")"
   ]
  },
  {
   "cell_type": "code",
   "execution_count": 546,
   "metadata": {},
   "outputs": [
    {
     "data": {
      "text/plain": [
       "(60000, 10000)"
      ]
     },
     "execution_count": 546,
     "metadata": {},
     "output_type": "execute_result"
    }
   ],
   "source": [
    "len(training_data), len(test_data)"
   ]
  },
  {
   "cell_type": "code",
   "execution_count": 547,
   "metadata": {},
   "outputs": [],
   "source": [
    "batch_size = 64\n",
    "train_dataloader = DataLoader(training_data, batch_size=batch_size, shuffle=True)\n",
    "test_dataloader = DataLoader(test_data, batch_size=batch_size, shuffle=True)"
   ]
  },
  {
   "cell_type": "code",
   "execution_count": 548,
   "metadata": {},
   "outputs": [],
   "source": [
    "T = 1000\n",
    "beta = torch.linspace(1e-4,0.02,T).to(device)\n",
    "alpha = 1 - beta\n",
    "alpha_bar = torch.cumprod(alpha, dim=0)"
   ]
  },
  {
   "cell_type": "code",
   "execution_count": 549,
   "metadata": {},
   "outputs": [
    {
     "data": {
      "text/plain": [
       "tensor([ 1, 28, 28])"
      ]
     },
     "execution_count": 549,
     "metadata": {},
     "output_type": "execute_result"
    }
   ],
   "source": [
    "IMAGE_SHAPE = torch.tensor(training_data[0][0].shape)\n",
    "IMAGE_SHAPE"
   ]
  },
  {
   "cell_type": "code",
   "execution_count": 550,
   "metadata": {},
   "outputs": [
    {
     "name": "stdout",
     "output_type": "stream",
     "text": [
      "torch.Size([1, 28, 28])\n"
     ]
    },
    {
     "data": {
      "image/png": "[encoded data removed]",
      "text/plain": [
       "<Figure size 640x480 with 1 Axes>"
      ]
     },
     "metadata": {},
     "output_type": "display_data"
    },
    {
     "ename": "TypeError",
     "evalue": "'int' object is not subscriptable",
     "output_type": "error",
     "traceback": [
      "\u001b[1;31m---------------------------------------------------------------------------\u001b[0m",
      "\u001b[1;31mTypeError\u001b[0m                                 Traceback (most recent call last)",
      "Cell \u001b[1;32mIn[550], line 12\u001b[0m\n\u001b[0;32m      9\u001b[0m plt\u001b[38;5;241m.\u001b[39mimshow(np\u001b[38;5;241m.\u001b[39msqueeze(x0\u001b[38;5;241m.\u001b[39mcpu()),cmap\u001b[38;5;241m=\u001b[39m\u001b[38;5;124m'\u001b[39m\u001b[38;5;124mgray\u001b[39m\u001b[38;5;124m'\u001b[39m)\n\u001b[0;32m     10\u001b[0m plt\u001b[38;5;241m.\u001b[39mshow()\n\u001b[1;32m---> 12\u001b[0m xt, eps \u001b[38;5;241m=\u001b[39m \u001b[43mforward_diffusion\u001b[49m\u001b[43m(\u001b[49m\u001b[43mx0\u001b[49m\u001b[43m,\u001b[49m\u001b[43m \u001b[49m\u001b[43mT\u001b[49m\u001b[38;5;241;43m/\u001b[39;49m\u001b[38;5;241;43m/\u001b[39;49m\u001b[38;5;241;43m10\u001b[39;49m\u001b[43m)\u001b[49m\n\u001b[0;32m     13\u001b[0m \u001b[38;5;28mprint\u001b[39m(xt\u001b[38;5;241m.\u001b[39mshape)\n\u001b[0;32m     14\u001b[0m plt\u001b[38;5;241m.\u001b[39mimshow(np\u001b[38;5;241m.\u001b[39msqueeze(xt\u001b[38;5;241m.\u001b[39mcpu()),cmap\u001b[38;5;241m=\u001b[39m\u001b[38;5;124m'\u001b[39m\u001b[38;5;124mgray\u001b[39m\u001b[38;5;124m'\u001b[39m)\n",
      "Cell \u001b[1;32mIn[550], line 2\u001b[0m, in \u001b[0;36mforward_diffusion\u001b[1;34m(x0, t)\u001b[0m\n\u001b[0;32m      1\u001b[0m \u001b[38;5;28;01mdef\u001b[39;00m \u001b[38;5;21mforward_diffusion\u001b[39m(x0, t):\n\u001b[1;32m----> 2\u001b[0m     t \u001b[38;5;241m=\u001b[39m \u001b[43mt\u001b[49m\u001b[43m[\u001b[49m\u001b[38;5;241;43m.\u001b[39;49m\u001b[38;5;241;43m.\u001b[39;49m\u001b[38;5;241;43m.\u001b[39;49m\u001b[43m,\u001b[49m\u001b[38;5;28;43;01mNone\u001b[39;49;00m\u001b[43m,\u001b[49m\u001b[38;5;28;43;01mNone\u001b[39;49;00m\u001b[43m]\u001b[49m\n\u001b[0;32m      3\u001b[0m     eps \u001b[38;5;241m=\u001b[39m torch\u001b[38;5;241m.\u001b[39mnormal(mean\u001b[38;5;241m=\u001b[39m\u001b[38;5;241m0\u001b[39m, std\u001b[38;5;241m=\u001b[39mtorch\u001b[38;5;241m.\u001b[39mones(x0\u001b[38;5;241m.\u001b[39mshape))\u001b[38;5;241m.\u001b[39mto(device)\n\u001b[0;32m      4\u001b[0m     xt \u001b[38;5;241m=\u001b[39m alpha_bar[t]\u001b[38;5;241m*\u001b[39m\u001b[38;5;241m*\u001b[39m\u001b[38;5;241m0.5\u001b[39m \u001b[38;5;241m*\u001b[39m x0 \u001b[38;5;241m+\u001b[39m (\u001b[38;5;241m1\u001b[39m \u001b[38;5;241m-\u001b[39m alpha_bar[t])\u001b[38;5;241m*\u001b[39m\u001b[38;5;241m*\u001b[39m\u001b[38;5;241m0.5\u001b[39m \u001b[38;5;241m*\u001b[39m eps\n",
      "\u001b[1;31mTypeError\u001b[0m: 'int' object is not subscriptable"
     ]
    }
   ],
   "source": [
    "def forward_diffusion(x0, t):\n",
    "    t = t[...,None,None]\n",
    "    eps = torch.normal(mean=0, std=torch.ones(x0.shape)).to(device)\n",
    "    xt = alpha_bar[t]**0.5 * x0 + (1 - alpha_bar[t])**0.5 * eps\n",
    "    return xt, eps\n",
    "\n",
    "x0 = training_data[0][0].to(device)\n",
    "print(x0.shape)\n",
    "plt.imshow(np.squeeze(x0.cpu()),cmap='gray')\n",
    "plt.show()\n",
    "\n",
    "# xt, eps = forward_diffusion(x0, T//10)\n",
    "# print(xt.shape)\n",
    "# plt.imshow(np.squeeze(xt.cpu()),cmap='gray')\n",
    "# plt.show()"
   ]
  },
  {
   "cell_type": "code",
   "execution_count": null,
   "metadata": {},
   "outputs": [],
   "source": [
    "class ScoreNetwork0(torch.nn.Module):\n",
    "    # takes an input image and time, returns the score function\n",
    "    def __init__(self):\n",
    "        super().__init__()\n",
    "        nch = 2\n",
    "        chs = [32, 64, 128, 256, 256]\n",
    "        self._convs = torch.nn.ModuleList([\n",
    "            torch.nn.Sequential(\n",
    "                torch.nn.Conv2d(2, chs[0], kernel_size=3, padding=1),  # (batch, ch, 28, 28)\n",
    "                torch.nn.LogSigmoid(),  # (batch, 8, 28, 28)\n",
    "            ),\n",
    "            torch.nn.Sequential(\n",
    "                torch.nn.MaxPool2d(kernel_size=2, stride=2),  # (batch, ch, 14, 14)\n",
    "                torch.nn.Conv2d(chs[0], chs[1], kernel_size=3, padding=1),  # (batch, ch, 14, 14)\n",
    "                torch.nn.LogSigmoid(),  # (batch, 16, 14, 14)\n",
    "            ),\n",
    "            torch.nn.Sequential(\n",
    "                torch.nn.MaxPool2d(kernel_size=2, stride=2),  # (batch, ch, 7, 7)\n",
    "                torch.nn.Conv2d(chs[1], chs[2], kernel_size=3, padding=1),  # (batch, ch, 7, 7)\n",
    "                torch.nn.LogSigmoid(),  # (batch, 32, 7, 7)\n",
    "            ),\n",
    "            torch.nn.Sequential(\n",
    "                torch.nn.MaxPool2d(kernel_size=2, stride=2, padding=1),  # (batch, ch, 4, 4)\n",
    "                torch.nn.Conv2d(chs[2], chs[3], kernel_size=3, padding=1),  # (batch, ch, 4, 4)\n",
    "                torch.nn.LogSigmoid(),  # (batch, 64, 4, 4)\n",
    "            ),\n",
    "            torch.nn.Sequential(\n",
    "                torch.nn.MaxPool2d(kernel_size=2, stride=2),  # (batch, ch, 2, 2)\n",
    "                torch.nn.Conv2d(chs[3], chs[4], kernel_size=3, padding=1),  # (batch, ch, 2, 2)\n",
    "                torch.nn.LogSigmoid(),  # (batch, 64, 2, 2)\n",
    "            ),\n",
    "        ])\n",
    "        self._tconvs = torch.nn.ModuleList([\n",
    "            torch.nn.Sequential(\n",
    "                # input is the output of convs[4]\n",
    "                torch.nn.ConvTranspose2d(chs[4], chs[3], kernel_size=3, stride=2, padding=1, output_padding=1),  # (batch, 64, 4, 4)\n",
    "                torch.nn.LogSigmoid(),\n",
    "            ),\n",
    "            torch.nn.Sequential(\n",
    "                # input is the output from the above sequential concated with the output from convs[3]\n",
    "                torch.nn.ConvTranspose2d(chs[3] * 2, chs[2], kernel_size=3, stride=2, padding=1, output_padding=0),  # (batch, 32, 7, 7)\n",
    "                torch.nn.LogSigmoid(),\n",
    "            ),\n",
    "            torch.nn.Sequential(\n",
    "                # input is the output from the above sequential concated with the output from convs[2]\n",
    "                torch.nn.ConvTranspose2d(chs[2] * 2, chs[1], kernel_size=3, stride=2, padding=1, output_padding=1),  # (batch, chs[2], 14, 14)\n",
    "                torch.nn.LogSigmoid(),\n",
    "            ),\n",
    "            torch.nn.Sequential(\n",
    "                # input is the output from the above sequential concated with the output from convs[1]\n",
    "                torch.nn.ConvTranspose2d(chs[1] * 2, chs[0], kernel_size=3, stride=2, padding=1, output_padding=1),  # (batch, chs[1], 28, 28)\n",
    "                torch.nn.LogSigmoid(),\n",
    "            ),\n",
    "            torch.nn.Sequential(\n",
    "                # input is the output from the above sequential concated with the output from convs[0]\n",
    "                torch.nn.Conv2d(chs[0] * 2, chs[0], kernel_size=3, padding=1),  # (batch, chs[0], 28, 28)\n",
    "                torch.nn.LogSigmoid(),\n",
    "                torch.nn.Conv2d(chs[0], 1, kernel_size=3, padding=1),  # (batch, 1, 28, 28)\n",
    "            ),\n",
    "        ])\n",
    "\n",
    "    def forward(self, x: torch.Tensor, t: torch.Tensor) -> torch.Tensor:\n",
    "        # x: (..., ch0 * 28 * 28), t: (..., 1)\n",
    "        x2 = torch.reshape(x, (*x.shape[:-1], 1, 28, 28))  # (..., ch0, 28, 28)\n",
    "        tt = t[..., None, None].expand(*t.shape[:-1], 1, 28, 28)  # (..., 1, 28, 28)\n",
    "        x2t = torch.cat((x2, tt), dim=-3)\n",
    "        signal = x2t\n",
    "        signals = []\n",
    "        for i, conv in enumerate(self._convs):\n",
    "            signal = conv(signal)\n",
    "            if i < len(self._convs) - 1:\n",
    "                signals.append(signal)\n",
    "\n",
    "        for i, tconv in enumerate(self._tconvs):\n",
    "            if i == 0:\n",
    "                signal = tconv(signal)\n",
    "            else:\n",
    "                signal = torch.cat((signal, signals[-i]), dim=-3)\n",
    "                signal = tconv(signal)\n",
    "        signal = torch.reshape(signal, (*signal.shape[:-3], -1))  # (..., 1 * 28 * 28)\n",
    "        if signal.isnan().any():\n",
    "            print('nans!!!')\n",
    "        return signal\n",
    "\n",
    "model = ScoreNetwork0().to(device)"
   ]
  },
  {
   "cell_type": "code",
   "execution_count": null,
   "metadata": {},
   "outputs": [],
   "source": [
    "loss_fn = torch.nn.MSELoss()"
   ]
  },
  {
   "cell_type": "code",
   "execution_count": null,
   "metadata": {},
   "outputs": [
    {
     "data": {
      "text/plain": [
       "tensor(1.)"
      ]
     },
     "execution_count": 526,
     "metadata": {},
     "output_type": "execute_result"
    }
   ],
   "source": [
    "x = torch.ones((2,3))\n",
    "y = torch.zeros((2,3))\n",
    "loss_fn(x,y)"
   ]
  },
  {
   "cell_type": "code",
   "execution_count": null,
   "metadata": {},
   "outputs": [
    {
     "data": {
      "text/plain": [
       "tensor([0.9907, 0.9955, 0.9903], device='cuda:0')"
      ]
     },
     "execution_count": 527,
     "metadata": {},
     "output_type": "execute_result"
    }
   ],
   "source": [
    "ts = torch.randint(low=0, high=T-1, size=(3,))\n",
    "alpha[ts]**0.5"
   ]
  },
  {
   "cell_type": "code",
   "execution_count": null,
   "metadata": {},
   "outputs": [
    {
     "data": {
      "text/plain": [
       "tensor([0.9815, 0.9911, 0.9808], device='cuda:0')"
      ]
     },
     "execution_count": 528,
     "metadata": {},
     "output_type": "execute_result"
    }
   ],
   "source": [
    "torch.normal(mean=alpha[ts], std=0.0)"
   ]
  },
  {
   "cell_type": "code",
   "execution_count": null,
   "metadata": {},
   "outputs": [],
   "source": [
    "def train_loop(dataloader, model, loss_fn, optimizer):\n",
    "    size = len(dataloader.dataset)\n",
    "    # Set the model to training mode - important for batch normalization and dropout layers\n",
    "    # Unnecessary in this situation but added for best practices\n",
    "    model.train()\n",
    "    for batch, (X, _) in enumerate(dataloader):\n",
    "        cur_batch_size = X.shape[0]\n",
    "        X = X.to(device)\n",
    "        t = torch.randint(low=0, high=T-1, size=(cur_batch_size,1), device=device)\n",
    "        Xt, eps = forward_diffusion(X, t)\n",
    "        Xt = Xt.reshape(cur_batch_size, -1)\n",
    "\n",
    "        # Compute prediction and loss\n",
    "        pred = model(Xt, t)\n",
    "        loss = loss_fn(pred.reshape(cur_batch_size, *IMAGE_SHAPE), eps)\n",
    "\n",
    "        # Backpropagation\n",
    "        loss.backward()\n",
    "        optimizer.step()\n",
    "        optimizer.zero_grad()\n",
    "\n",
    "        if batch % 100 == 0:\n",
    "        # if batch % 5 == 0:\n",
    "            loss, current = loss.item(), batch * batch_size + len(X)\n",
    "            # loss, current = loss.item() / cur_batch_size, batch * batch_size + len(X)\n",
    "            print(f\"loss: {loss:>7f}  [{current:>5d}/{size:>5d}]\")\n",
    "\n",
    "\n",
    "def test_loop(dataloader, model, loss_fn):\n",
    "    # Set the model to evaluation mode - important for batch normalization and dropout layers\n",
    "    # Unnecessary in this situation but added for best practices\n",
    "    model.eval()\n",
    "    size = len(dataloader.dataset)\n",
    "    num_batches = len(dataloader)\n",
    "    test_loss, correct = 0, 0\n",
    "\n",
    "    # Evaluating the model with torch.no_grad() ensures that no gradients are computed during test mode\n",
    "    # also serves to reduce unnecessary gradient computations and memory usage for tensors with requires_grad=True\n",
    "    with torch.no_grad():\n",
    "        for X, y in dataloader:\n",
    "            pred = model(X)\n",
    "            test_loss += loss_fn(pred, y).item()\n",
    "\n",
    "    test_loss /= num_batches\n",
    "    print(f\"Avg loss: {test_loss:>8f} \\n\")"
   ]
  },
  {
   "cell_type": "code",
   "execution_count": null,
   "metadata": {},
   "outputs": [],
   "source": [
    "learning_rate = 1e-4\n",
    "# optimizer = torch.optim.SGD(model.parameters(), lr=learning_rate)\n",
    "optimizer = torch.optim.Adam(model.parameters(), lr=3e-4)"
   ]
  },
  {
   "cell_type": "code",
   "execution_count": 552,
   "metadata": {},
   "outputs": [
    {
     "name": "stdout",
     "output_type": "stream",
     "text": [
      "Epoch 1\n",
      "-------------------------------\n",
      "loss: 0.224314  [   64/60000]\n",
      "loss: 0.046462  [ 6464/60000]\n",
      "loss: 0.046426  [12864/60000]\n",
      "loss: 0.046149  [19264/60000]\n",
      "loss: 0.039205  [25664/60000]\n",
      "loss: 0.056217  [32064/60000]\n",
      "loss: 0.040749  [38464/60000]\n",
      "loss: 0.042208  [44864/60000]\n",
      "loss: 0.038477  [51264/60000]\n",
      "loss: 0.038782  [57664/60000]\n",
      "Epoch 2\n",
      "-------------------------------\n",
      "loss: 0.033933  [   64/60000]\n",
      "loss: 0.040500  [ 6464/60000]\n",
      "loss: 0.030512  [12864/60000]\n",
      "loss: 0.039527  [19264/60000]\n",
      "loss: 0.031135  [25664/60000]\n",
      "loss: 0.035344  [32064/60000]\n",
      "loss: 0.035815  [38464/60000]\n",
      "loss: 0.042437  [44864/60000]\n",
      "loss: 0.042075  [51264/60000]\n",
      "loss: 0.026045  [57664/60000]\n",
      "Epoch 3\n",
      "-------------------------------\n",
      "loss: 0.044369  [   64/60000]\n",
      "loss: 0.035112  [ 6464/60000]\n",
      "loss: 0.057414  [12864/60000]\n",
      "loss: 0.045570  [19264/60000]\n",
      "loss: 0.052385  [25664/60000]\n",
      "loss: 0.044050  [32064/60000]\n",
      "loss: 0.040606  [38464/60000]\n",
      "loss: 0.062220  [44864/60000]\n",
      "loss: 0.025309  [51264/60000]\n",
      "loss: 0.020105  [57664/60000]\n",
      "Epoch 4\n",
      "-------------------------------\n",
      "loss: 0.037866  [   64/60000]\n",
      "loss: 0.027269  [ 6464/60000]\n",
      "loss: 0.029820  [12864/60000]\n",
      "loss: 0.047044  [19264/60000]\n",
      "loss: 0.041378  [25664/60000]\n",
      "loss: 0.032108  [32064/60000]\n",
      "loss: 0.046132  [38464/60000]\n",
      "loss: 0.039257  [44864/60000]\n",
      "loss: 0.033408  [51264/60000]\n",
      "loss: 0.092094  [57664/60000]\n",
      "Epoch 5\n",
      "-------------------------------\n",
      "loss: 0.041069  [   64/60000]\n",
      "loss: 0.024629  [ 6464/60000]\n",
      "loss: 0.023233  [12864/60000]\n",
      "loss: 0.171615  [19264/60000]\n",
      "loss: 0.025454  [25664/60000]\n",
      "loss: 0.024326  [32064/60000]\n",
      "loss: 0.030441  [38464/60000]\n",
      "loss: 0.028212  [44864/60000]\n",
      "loss: 0.024668  [51264/60000]\n",
      "loss: 0.039522  [57664/60000]\n",
      "Epoch 6\n",
      "-------------------------------\n",
      "loss: 0.046964  [   64/60000]\n",
      "loss: 0.044606  [ 6464/60000]\n",
      "loss: 0.027909  [12864/60000]\n",
      "loss: 0.030620  [19264/60000]\n",
      "loss: 0.041619  [25664/60000]\n",
      "loss: 0.036534  [32064/60000]\n",
      "loss: 0.024706  [38464/60000]\n",
      "loss: 0.020957  [44864/60000]\n",
      "loss: 0.028080  [51264/60000]\n",
      "loss: 0.030494  [57664/60000]\n",
      "Epoch 7\n",
      "-------------------------------\n",
      "loss: 0.023267  [   64/60000]\n",
      "loss: 0.021426  [ 6464/60000]\n",
      "loss: 0.024645  [12864/60000]\n",
      "loss: 0.025113  [19264/60000]\n",
      "loss: 0.027303  [25664/60000]\n",
      "loss: 0.042563  [32064/60000]\n",
      "loss: 0.032065  [38464/60000]\n",
      "loss: 0.039753  [44864/60000]\n",
      "loss: 0.026448  [51264/60000]\n",
      "loss: 0.029599  [57664/60000]\n",
      "Epoch 8\n",
      "-------------------------------\n",
      "loss: 0.028893  [   64/60000]\n",
      "loss: 0.029673  [ 6464/60000]\n",
      "loss: 0.027203  [12864/60000]\n",
      "loss: 0.025106  [19264/60000]\n",
      "loss: 0.041750  [25664/60000]\n",
      "loss: 0.026985  [32064/60000]\n",
      "loss: 0.042348  [38464/60000]\n",
      "loss: 0.030042  [44864/60000]\n",
      "loss: 0.023041  [51264/60000]\n",
      "loss: 0.027368  [57664/60000]\n",
      "Epoch 9\n",
      "-------------------------------\n",
      "loss: 0.017486  [   64/60000]\n",
      "loss: 0.024304  [ 6464/60000]\n",
      "loss: 0.022547  [12864/60000]\n",
      "loss: 0.030000  [19264/60000]\n",
      "loss: 0.020812  [25664/60000]\n",
      "loss: 0.018456  [32064/60000]\n",
      "loss: 0.019296  [38464/60000]\n",
      "loss: 0.023507  [44864/60000]\n",
      "loss: 0.049302  [51264/60000]\n",
      "loss: 0.024676  [57664/60000]\n",
      "Epoch 10\n",
      "-------------------------------\n",
      "loss: 0.021174  [   64/60000]\n",
      "loss: 0.032829  [ 6464/60000]\n",
      "loss: 0.025554  [12864/60000]\n",
      "loss: 0.041158  [19264/60000]\n",
      "loss: 0.032863  [25664/60000]\n",
      "loss: 0.028012  [32064/60000]\n",
      "loss: 0.026120  [38464/60000]\n",
      "loss: 0.025176  [44864/60000]\n",
      "loss: 0.034703  [51264/60000]\n",
      "loss: 0.024826  [57664/60000]\n",
      "Done!\n"
     ]
    }
   ],
   "source": [
    " # Training\n",
    "epochs = 10\n",
    "for i in range(epochs):\n",
    "    print(f\"Epoch {i+1}\\n-------------------------------\")\n",
    "    train_loop(train_dataloader, model, loss_fn, optimizer)\n",
    "    # test_loop(test_dataloader, model, loss_fn)  # not done\n",
    "print(\"Done!\")"
   ]
  },
  {
   "cell_type": "code",
   "execution_count": 553,
   "metadata": {},
   "outputs": [],
   "source": [
    "def sampling():\n",
    "    sig = beta**0.5\n",
    "    x = torch.normal(mean=0, std=torch.ones(*IMAGE_SHAPE)).to(device)\n",
    "    for t in range(T-1, -1, -1):\n",
    "        if t > 0:\n",
    "            z = torch.normal(mean=0, std=torch.ones(*IMAGE_SHAPE)).to(device)\n",
    "        else:\n",
    "            z = torch.zeros(*IMAGE_SHAPE).to(device)\n",
    "        t = torch.tensor([t]).to(device)\n",
    "        eps_theta = model(x.flatten(), t).reshape(*IMAGE_SHAPE)\n",
    "        x = 1/alpha[t]**0.5 * (x - (1-alpha[t])/(1-alpha_bar[t])**0.5 * eps_theta) + \\\n",
    "                sig[t] * z\n",
    "    \n",
    "    return x.detach()"
   ]
  },
  {
   "cell_type": "code",
   "execution_count": 559,
   "metadata": {},
   "outputs": [],
   "source": [
    "x_sample = sampling()\n",
    "# x_sample"
   ]
  },
  {
   "cell_type": "code",
   "execution_count": 560,
   "metadata": {},
   "outputs": [
    {
     "data": {
      "text/plain": [
       "<matplotlib.image.AxesImage at 0x1be45cfca90>"
      ]
     },
     "execution_count": 560,
     "metadata": {},
     "output_type": "execute_result"
    },
    {
     "data": {
      "image/png": "[encoded data removed]",
      "text/plain": [
       "<Figure size 640x480 with 1 Axes>"
      ]
     },
     "metadata": {},
     "output_type": "display_data"
    }
   ],
   "source": [
    "plt.imshow(np.squeeze(x_sample.cpu()), cmap='gray')"
   ]
  }
 ],
 "metadata": {
  "kernelspec": {
   "display_name": "base",
   "language": "python",
   "name": "python3"
  },
  "language_info": {
   "codemirror_mode": {
    "name": "ipython",
    "version": 3
   },
   "file_extension": ".py",
   "mimetype": "text/x-python",
   "name": "python",
   "nbconvert_exporter": "python",
   "pygments_lexer": "ipython3",
   "version": "3.11.5"
  }
 },
 "nbformat": 4,
 "nbformat_minor": 2
}
